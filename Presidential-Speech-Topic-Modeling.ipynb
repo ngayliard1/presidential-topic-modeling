{
 "cells": [
  {
   "cell_type": "code",
   "execution_count": 1,
   "metadata": {},
   "outputs": [],
   "source": [
    "import os, glob, re, string\n",
    "import numpy as np\n",
    "import pandas as pd\n",
    "import matplotlib.pyplot as plt\n",
    "import matplotlib.cm as cm\n",
    "import seaborn as sns"
   ]
  },
  {
   "cell_type": "markdown",
   "metadata": {},
   "source": [
    "# Import and Clean Speeches"
   ]
  },
  {
   "cell_type": "code",
   "execution_count": 2,
   "metadata": {},
   "outputs": [],
   "source": [
    "# Speech corpus can be downloaded here: \n",
    "# http://www.thegrammarlab.com/?nor-portfolio=corpus-of-presidential-speeches-cops-and-a-clintontrump-corpus"
   ]
  },
  {
   "cell_type": "code",
   "execution_count": 3,
   "metadata": {},
   "outputs": [],
   "source": [
    "# Create list of speech titles\n",
    "speech_dir = \"./president_speech_corpus/**/*.txt\" # set directory where speeches are contained here\n",
    "\n",
    "titles = []\n",
    "\n",
    "\n",
    "for file in sorted(glob.glob(speech_dir)):\n",
    "    title = open(file)\n",
    "    title = title.readline()\n",
    "    title = title[8:-3]\n",
    "    titles.append(title)"
   ]
  },
  {
   "cell_type": "code",
   "execution_count": 4,
   "metadata": {},
   "outputs": [],
   "source": [
    "# create list of president names\n",
    "\n",
    "pres_names = []\n",
    "\n",
    "for file in sorted(glob.glob(speech_dir)):\n",
    "    pres_names.append(file)\n",
    "\n",
    "\n",
    "pres_names2 = []\n",
    "\n",
    "for count in range(len(pres_names)):\n",
    "    pres_names2.append(pres_names[count].split('/')[3].split('_')[0])"
   ]
  },
  {
   "cell_type": "code",
   "execution_count": 5,
   "metadata": {},
   "outputs": [],
   "source": [
    "'''list of speech dates - In the original txt files, there are 8 dates in the wrong place. You can identify the files\n",
    "using pd.to_datetime(speech_dates, errors = \"coerce\"), which will set those speech dates to NaT (Not a Time). I\n",
    "manually changed moved the dates in those files, since that was the simplest solution. May come back and write code\n",
    "to grab those dates\n",
    "'''\n",
    "\n",
    "speech_dates = []\n",
    "for file in sorted(glob.glob(speech_dir)):\n",
    "    date = open(file)\n",
    "    date.readline()\n",
    "    date = date.readline()\n",
    "    date = date[7:-3]\n",
    "    speech_dates.append(date)"
   ]
  },
  {
   "cell_type": "code",
   "execution_count": 6,
   "metadata": {},
   "outputs": [],
   "source": [
    "# list of full speeches\n",
    "\n",
    "speeches = []\n",
    "\n",
    "for file in sorted(glob.glob(speech_dir)):\n",
    "    speech = open(file)\n",
    "    speech = speech.read()\n",
    "    speech = re.sub(r'<.*>', '', speech)\n",
    "    speech = speech.replace('\\n', ' ')\n",
    "    speeches.append(speech)"
   ]
  },
  {
   "cell_type": "code",
   "execution_count": 7,
   "metadata": {},
   "outputs": [],
   "source": [
    "# create speech dataframe (set to_datetime argument errors = \"coerce\" here to identify incorrectly dated files)\n",
    "# LIST ISSUE FILES HERE\n",
    "\n",
    "df = pd.DataFrame({'title' : titles, 'pres_name': pres_names2, 'speech' : speeches}, \n",
    "                  index = pd.to_datetime(speech_dates))"
   ]
  },
  {
   "cell_type": "code",
   "execution_count": 8,
   "metadata": {
    "scrolled": true
   },
   "outputs": [],
   "source": [
    "# Date filter\n",
    "\n",
    "df = df[df.index.year >= 1900]\n",
    "\n",
    "# filter press conferences and debates\n",
    "\n",
    "# df = df[-df.title.str.contains('press', case = False)]\n",
    "# df = df[-df.title.str.contains('debate', case = False)]"
   ]
  },
  {
   "cell_type": "markdown",
   "metadata": {},
   "source": [
    "## Prepare words for NLP (tokenize, punctuation removal, stopwords)"
   ]
  },
  {
   "cell_type": "code",
   "execution_count": 9,
   "metadata": {},
   "outputs": [],
   "source": [
    "from nltk.stem import WordNetLemmatizer\n",
    "from nltk.tokenize import RegexpTokenizer, sent_tokenize\n",
    "from nltk.corpus import stopwords, wordnet"
   ]
  },
  {
   "cell_type": "code",
   "execution_count": 10,
   "metadata": {},
   "outputs": [],
   "source": [
    "# lowercase\n",
    "\n",
    "speeches = [sentence.lower() for sentence in df.speech]"
   ]
  },
  {
   "cell_type": "code",
   "execution_count": 11,
   "metadata": {},
   "outputs": [],
   "source": [
    "# remove punctuation\n",
    "\n",
    "word_tokenizer = RegexpTokenizer(r'\\w+')\n",
    "\n",
    "punc_remove = [word_tokenizer.tokenize(word) for word in speeches]\n",
    "\n",
    "punc_remove = [' '.join(lst) for lst in punc_remove]"
   ]
  },
  {
   "cell_type": "code",
   "execution_count": 12,
   "metadata": {},
   "outputs": [],
   "source": [
    "# add stopwords - changing this list can have a dramatic effect on results in the LDA model because it uses word\n",
    "# counts, while NMF won't be affected much, since it uses TFIDF\n",
    "\n",
    "stopwords = set(stopwords.words('english'))\n",
    "\n",
    "extra_stopwords = ['people', 'united', 'states', 'america', 'american', \n",
    "                   'us', 'nation', 'great', 'one', 'would', 'great',\n",
    "                  'government', 'upon', 'must', 'every', 'many', 'made', \n",
    "                   'may', 'also', 'shall', 'think', 'mr', 'know', 'want', 'without',\n",
    "                  '000', 'years', 'year', 'believe', 'uh', 'going', 'make', 'americans', 'let',\n",
    "                  'men', 'public', 'man', 'today', 'whereas', 'part', 'federal', 'hereby', 'last', \n",
    "                   'present', 'within', 'dr', 'mrs', 'therefore', 'aforesaid', 'could', 'things', \n",
    "                   'much', 'get', 'say', 'applause'\n",
    "                  ]\n",
    "\n",
    "stopwords.update(extra_stopwords)\n",
    "\n",
    "# Additional stopwords that can impact results, but it can be argued that they are important words\n",
    "\n",
    "# more_stopwords = ['world', 'new', 'country', 'president', 'said', 'day', 'republic', 'general', 'law',\n",
    "#                  'laws', 'state', 'constitution', 'time', 'citizens', 'citizen', 'duty']\n",
    "\n",
    "# stopwords.update(more_stopwords)\n",
    "\n",
    "\n",
    "\n",
    "# split and rejoin list of strings to drop stopwords and retokenize\n",
    "\n",
    "punc_remove = [' '.join(w for w in word.split() if w not in stopwords) for word in punc_remove]\n",
    "\n",
    "punc_remove = [word_tokenizer.tokenize(word) for word in punc_remove]"
   ]
  },
  {
   "cell_type": "markdown",
   "metadata": {},
   "source": [
    "# Run LDA Model"
   ]
  },
  {
   "cell_type": "code",
   "execution_count": 13,
   "metadata": {},
   "outputs": [],
   "source": [
    "from gensim import corpora\n",
    "from gensim.models.doc2vec import Doc2Vec, TaggedDocument\n",
    "from gensim.models.ldamodel import LdaModel"
   ]
  },
  {
   "cell_type": "code",
   "execution_count": 14,
   "metadata": {},
   "outputs": [],
   "source": [
    "# Build dictionary and bag of word corpus for LdaModel\n",
    "\n",
    "dictionary = corpora.Dictionary(punc_remove)\n",
    "\n",
    "corpus = [dictionary.doc2bow(text) for text in punc_remove]"
   ]
  },
  {
   "cell_type": "code",
   "execution_count": 15,
   "metadata": {},
   "outputs": [
    {
     "data": {
      "text/plain": [
       "(array([ 36.,  51.,  48.,  48.,  19., 120.,  66.,  75.,  57.,  65.]),\n",
       " array([693788. , 698019.1, 702250.2, 706481.3, 710712.4, 714943.5,\n",
       "        719174.6, 723405.7, 727636.8, 731867.9, 736099. ]),\n",
       " <a list of 10 Patch objects>)"
      ]
     },
     "execution_count": 15,
     "metadata": {},
     "output_type": "execute_result"
    },
    {
     "data": {
      "image/png": "[encoded data removed]",
      "text/plain": [
       "<Figure size 432x288 with 1 Axes>"
      ]
     },
     "metadata": {
      "needs_background": "light"
     },
     "output_type": "display_data"
    }
   ],
   "source": [
    "# Just a quick check on speech frequency. There is a low number of speeches in the 50s for some reason,\n",
    "# and a spike in the 60s (TV became more widespread and the Civil Rights Movement and Vietnam were major issues)\n",
    "\n",
    "# After the 60s, there were significantly more speeches recorded than previously\n",
    "\n",
    "plt.hist(df.index)"
   ]
  },
  {
   "cell_type": "code",
   "execution_count": 16,
   "metadata": {},
   "outputs": [],
   "source": [
    "# run LdaModel\n",
    "\n",
    "ldamodel = LdaModel(corpus = corpus, num_topics=20, id2word = dictionary, \n",
    "                                           passes=50, random_state = 25)"
   ]
  },
  {
   "cell_type": "code",
   "execution_count": 17,
   "metadata": {},
   "outputs": [],
   "source": [
    "# assign doc_topics\n",
    "\n",
    "doc_topics = list(ldamodel.get_document_topics(corpus))"
   ]
  },
  {
   "cell_type": "code",
   "execution_count": 18,
   "metadata": {
    "scrolled": true
   },
   "outputs": [
    {
     "data": {
      "text/plain": [
       "['0.016*\"war\" + 0.011*\"vietnam\" + 0.009*\"peace\" + 0.009*\"south\" + 0.007*\"time\"',\n",
       " '0.018*\"tax\" + 0.007*\"unemployment\" + 0.007*\"ford\" + 0.006*\"investment\" + 0.005*\"nixon\"',\n",
       " '0.007*\"world\" + 0.006*\"president\" + 0.005*\"country\" + 0.005*\"soviet\" + 0.004*\"peace\"',\n",
       " '0.005*\"world\" + 0.005*\"khrushchev\" + 0.005*\"new\" + 0.004*\"freedom\" + 0.004*\"future\"',\n",
       " '0.008*\"president\" + 0.007*\"soviet\" + 0.005*\"gorbachev\" + 0.005*\"peace\" + 0.005*\"answer\"',\n",
       " '0.005*\"country\" + 0.005*\"law\" + 0.004*\"congress\" + 0.004*\"war\" + 0.004*\"national\"',\n",
       " '0.027*\"energy\" + 0.025*\"oil\" + 0.008*\"cuba\" + 0.007*\"schedule\" + 0.006*\"tariff\"',\n",
       " '0.000*\"time\" + 0.000*\"new\" + 0.000*\"country\" + 0.000*\"world\" + 0.000*\"war\"',\n",
       " '0.036*\"panama\" + 0.014*\"canal\" + 0.013*\"isthmus\" + 0.011*\"republic\" + 0.010*\"colon\"',\n",
       " '0.016*\"health\" + 0.016*\"care\" + 0.010*\"insurance\" + 0.006*\"system\" + 0.006*\"plan\"',\n",
       " '0.014*\"congress\" + 0.006*\"country\" + 0.006*\"tax\" + 0.006*\"bill\" + 0.006*\"program\"',\n",
       " '0.008*\"system\" + 0.008*\"business\" + 0.007*\"economic\" + 0.006*\"industry\" + 0.006*\"banks\"',\n",
       " '0.011*\"world\" + 0.009*\"iraq\" + 0.007*\"security\" + 0.007*\"war\" + 0.006*\"peace\"',\n",
       " '0.008*\"department\" + 0.008*\"congress\" + 0.006*\"law\" + 0.005*\"court\" + 0.004*\"foreign\"',\n",
       " '0.007*\"senator\" + 0.007*\"president\" + 0.007*\"right\" + 0.007*\"congress\" + 0.006*\"well\"',\n",
       " '0.013*\"rights\" + 0.009*\"right\" + 0.009*\"law\" + 0.006*\"life\" + 0.006*\"justice\"',\n",
       " '0.007*\"time\" + 0.006*\"well\" + 0.005*\"said\" + 0.005*\"poland\" + 0.005*\"percent\"',\n",
       " '0.020*\"world\" + 0.014*\"peace\" + 0.012*\"nations\" + 0.009*\"new\" + 0.008*\"freedom\"',\n",
       " '0.010*\"lebanon\" + 0.006*\"well\" + 0.005*\"cuba\" + 0.005*\"peace\" + 0.005*\"force\"',\n",
       " '0.008*\"new\" + 0.007*\"work\" + 0.006*\"time\" + 0.005*\"country\" + 0.005*\"world\"']"
      ]
     },
     "execution_count": 18,
     "metadata": {},
     "output_type": "execute_result"
    }
   ],
   "source": [
    "# Examine topic clusters\n",
    "\n",
    "[x[1] for x in ldamodel.show_topics(num_topics = 20, num_words = 5)] # remove index to show all topic words"
   ]
  },
  {
   "cell_type": "code",
   "execution_count": 19,
   "metadata": {},
   "outputs": [],
   "source": [
    "# lda topic dataframe - create function from this to take number of topics and keywords\n",
    "\n",
    "lda_results = [x[1] for x in ldamodel.show_topics(num_topics = 20, num_words = 5)]\n",
    "\n",
    "lst = re.findall(r'([a-zA-Z]+)', str(lda_results))\n",
    "\n",
    "lda_topic_list = [lst[x:x+5] for x in range(0, len(lst),5)]\n",
    "\n",
    "lda_df = pd.DataFrame(lda_topic_list)\n",
    "\n",
    "lda_df.index = [f'Topic {topic}' for topic in range(20)]"
   ]
  },
  {
   "cell_type": "code",
   "execution_count": 20,
   "metadata": {},
   "outputs": [],
   "source": [
    "# LDA DF FOR GRAPHING TOPICS\n",
    "\n",
    "# assign doc_topics to dataframe (list of list of tuples with percentage of each topic in each doc)\n",
    "\n",
    "df['doc_topic'] = doc_topics\n",
    "\n",
    "# convert to dictionary to easily access values\n",
    "\n",
    "df['doc_topic'] = df['doc_topic'].map(lambda x: dict(x))"
   ]
  },
  {
   "cell_type": "markdown",
   "metadata": {},
   "source": [
    "# Run NMF Model"
   ]
  },
  {
   "cell_type": "markdown",
   "metadata": {},
   "source": [
    "### Non-Negative Matrix Factorization in sklearn for comparison to LDA"
   ]
  },
  {
   "cell_type": "code",
   "execution_count": 21,
   "metadata": {},
   "outputs": [],
   "source": [
    "from sklearn.feature_extraction.text import CountVectorizer, TfidfTransformer\n",
    "from sklearn.decomposition import NMF\n",
    "from sklearn.preprocessing import normalize"
   ]
  },
  {
   "cell_type": "code",
   "execution_count": 22,
   "metadata": {},
   "outputs": [],
   "source": [
    "# Use CountVectorizer to get total word counts in documents\n",
    "\n",
    "vectorizer = CountVectorizer(analyzer = \"word\", max_features = 10_000)"
   ]
  },
  {
   "cell_type": "code",
   "execution_count": 23,
   "metadata": {},
   "outputs": [],
   "source": [
    "# Create list of strings from list of lists for CountVectorizer\n",
    "\n",
    "punc_joined = [' '.join(text) for text in punc_remove]"
   ]
  },
  {
   "cell_type": "code",
   "execution_count": 24,
   "metadata": {},
   "outputs": [],
   "source": [
    "# Transform words with TfidfTransformer - This takes into account term frequency across and within documents\n",
    "\n",
    "word_counts = vectorizer.fit_transform(punc_joined)\n",
    "\n",
    "tfidf_transform = TfidfTransformer(smooth_idf = False)\n",
    "\n",
    "words_tfidf = tfidf_transform.fit_transform(word_counts)\n",
    "\n",
    "# final_words = normalize(words_tfidf, norm = 'l1')"
   ]
  },
  {
   "cell_type": "code",
   "execution_count": 25,
   "metadata": {},
   "outputs": [],
   "source": [
    "# Instantiate NMF model and fit to tfidf transformed documents\n",
    "\n",
    "model = NMF(n_components = 20, init = 'nndsvd')\n",
    "\n",
    "# Set W as the document by topic matrix\n",
    "# Set H as the topic by word matrix\n",
    "\n",
    "W = model.fit_transform(words_tfidf)\n",
    "H = model.components_"
   ]
  },
  {
   "cell_type": "code",
   "execution_count": 26,
   "metadata": {},
   "outputs": [
    {
     "data": {
      "text/plain": [
       "((585, 20), (20, 10000))"
      ]
     },
     "execution_count": 26,
     "metadata": {},
     "output_type": "execute_result"
    }
   ],
   "source": [
    "# check matrix shapes\n",
    "\n",
    "W.shape, H.shape"
   ]
  },
  {
   "cell_type": "code",
   "execution_count": 27,
   "metadata": {},
   "outputs": [],
   "source": [
    "# Function to assign topic indices back to feature names - takes model, feature names from vectorizer, \n",
    "# and n_top_words as arguments. n_top_words selects the number of keywords per topic\n",
    "\n",
    "def print_top_words(model, feature_names, n_top_words):\n",
    "    lst = []\n",
    "    for topic_idx, topic in enumerate(model.components_):\n",
    "        message = \"Topic #%d: \" % topic_idx\n",
    "        message += \" \".join([feature_names[i]\n",
    "                             for i in topic.argsort()[:-n_top_words - 1:-1]])\n",
    "        lst.append(message)\n",
    "    return lst"
   ]
  },
  {
   "cell_type": "code",
   "execution_count": 28,
   "metadata": {},
   "outputs": [],
   "source": [
    "# Set 3rd argument to number of topic keywords that are desired\n",
    "\n",
    "topics_nmf = (print_top_words(model, vectorizer.get_feature_names(), 5))"
   ]
  },
  {
   "cell_type": "code",
   "execution_count": 29,
   "metadata": {},
   "outputs": [
    {
     "data": {
      "text/plain": [
       "['Topic #0: world new nations free freedom',\n",
       " 'Topic #1: law congress department commerce interstate',\n",
       " 'Topic #2: health care jobs work new',\n",
       " 'Topic #3: vietnam south vietnamese north peace',\n",
       " 'Topic #4: iraq iraqi saddam iraqis kuwait',\n",
       " 'Topic #5: soviet nuclear weapons missiles union',\n",
       " 'Topic #6: president country got party republican',\n",
       " 'Topic #7: war japanese german germany ships',\n",
       " 'Topic #8: banks business credit industry employment',\n",
       " 'Topic #9: viet nam south aggression ambassador',\n",
       " 'Topic #10: tax budget inflation percent spending',\n",
       " 'Topic #11: energy oil congress gas inflation',\n",
       " 'Topic #12: peace nations world war peoples',\n",
       " 'Topic #13: tariff cuba bill revision duties',\n",
       " 'Topic #14: israel lebanon peace israeli palestinian',\n",
       " 'Topic #15: negro law rights right negroes',\n",
       " 'Topic #16: afghanistan qaeda terrorists terror al',\n",
       " 'Topic #17: republic world civilization party nationality',\n",
       " 'Topic #18: freedom god life day new',\n",
       " 'Topic #19: panama canal isthmus colon republic']"
      ]
     },
     "execution_count": 29,
     "metadata": {},
     "output_type": "execute_result"
    }
   ],
   "source": [
    "# Check nmf topic assignment\n",
    "\n",
    "topics_nmf"
   ]
  },
  {
   "cell_type": "code",
   "execution_count": 30,
   "metadata": {},
   "outputs": [],
   "source": [
    "# Create a dataframe from nmf topics and keywords\n",
    "\n",
    "nmfsplit = [item.split() for item in topics_nmf]\n",
    "\n",
    "nmf_df = pd.DataFrame(nmfsplit)\n",
    "\n",
    "nmf_df.index = [f'Topic {topic}' for topic in range(20)]\n",
    "\n",
    "nmf_df.drop(columns = [0, 1], inplace = True)\n",
    "\n",
    "nmf_df.columns = [1, 2, 3, 4, 5]"
   ]
  },
  {
   "cell_type": "code",
   "execution_count": 31,
   "metadata": {},
   "outputs": [],
   "source": [
    "# write to csv if desired\n",
    "\n",
    "# nmf_df.to_csv('nmf_topics')"
   ]
  },
  {
   "cell_type": "code",
   "execution_count": 32,
   "metadata": {},
   "outputs": [],
   "source": [
    "# copy corpus df\n",
    "\n",
    "corpus_df = df[df.columns[0:4]].copy()"
   ]
  },
  {
   "cell_type": "code",
   "execution_count": 33,
   "metadata": {},
   "outputs": [
    {
     "data": {
      "text/html": [
       "<div>\n",
       "<style scoped>\n",
       "    .dataframe tbody tr th:only-of-type {\n",
       "        vertical-align: middle;\n",
       "    }\n",
       "\n",
       "    .dataframe tbody tr th {\n",
       "        vertical-align: top;\n",
       "    }\n",
       "\n",
       "    .dataframe thead th {\n",
       "        text-align: right;\n",
       "    }\n",
       "</style>\n",
       "<table border=\"1\" class=\"dataframe\">\n",
       "  <thead>\n",
       "    <tr style=\"text-align: right;\">\n",
       "      <th></th>\n",
       "      <th>index</th>\n",
       "      <th>title</th>\n",
       "      <th>pres_name</th>\n",
       "      <th>speech</th>\n",
       "      <th>doc_topic</th>\n",
       "      <th>topic_0</th>\n",
       "      <th>topic_1</th>\n",
       "      <th>topic_2</th>\n",
       "      <th>topic_3</th>\n",
       "      <th>topic_4</th>\n",
       "      <th>...</th>\n",
       "      <th>topic_10</th>\n",
       "      <th>topic_11</th>\n",
       "      <th>topic_12</th>\n",
       "      <th>topic_13</th>\n",
       "      <th>topic_14</th>\n",
       "      <th>topic_15</th>\n",
       "      <th>topic_16</th>\n",
       "      <th>topic_17</th>\n",
       "      <th>topic_18</th>\n",
       "      <th>topic_19</th>\n",
       "    </tr>\n",
       "  </thead>\n",
       "  <tbody>\n",
       "    <tr>\n",
       "      <th>0</th>\n",
       "      <td>1988-09-25</td>\n",
       "      <td>Debate with Michael Dukakis</td>\n",
       "      <td>bush</td>\n",
       "      <td>I think we've seen a deterioration of ...</td>\n",
       "      <td>{2: 0.3027503, 10: 0.04934066, 19: 0.64316326}</td>\n",
       "      <td>0.000000</td>\n",
       "      <td>0.000000</td>\n",
       "      <td>0.077110</td>\n",
       "      <td>0.000000</td>\n",
       "      <td>0.005438</td>\n",
       "      <td>...</td>\n",
       "      <td>0.040443</td>\n",
       "      <td>0.000000</td>\n",
       "      <td>0.000000</td>\n",
       "      <td>0.0</td>\n",
       "      <td>0.000000</td>\n",
       "      <td>0.0</td>\n",
       "      <td>0.001228</td>\n",
       "      <td>0.0</td>\n",
       "      <td>0.011348</td>\n",
       "      <td>0.010505</td>\n",
       "    </tr>\n",
       "    <tr>\n",
       "      <th>1</th>\n",
       "      <td>1989-01-20</td>\n",
       "      <td>Inaugural Address</td>\n",
       "      <td>bush</td>\n",
       "      <td>Mr. Chief Justice, Mr. President, Vice Presi...</td>\n",
       "      <td>{2: 0.039600223, 9: 0.08852721, 17: 0.21697919...</td>\n",
       "      <td>0.029247</td>\n",
       "      <td>0.002623</td>\n",
       "      <td>0.042639</td>\n",
       "      <td>0.023209</td>\n",
       "      <td>0.000000</td>\n",
       "      <td>...</td>\n",
       "      <td>0.000000</td>\n",
       "      <td>0.006828</td>\n",
       "      <td>0.014450</td>\n",
       "      <td>0.0</td>\n",
       "      <td>0.000000</td>\n",
       "      <td>0.0</td>\n",
       "      <td>0.000000</td>\n",
       "      <td>0.0</td>\n",
       "      <td>0.237960</td>\n",
       "      <td>0.000000</td>\n",
       "    </tr>\n",
       "    <tr>\n",
       "      <th>2</th>\n",
       "      <td>1988-08-18</td>\n",
       "      <td>Acceptance Speech at the Republican National C...</td>\n",
       "      <td>bush</td>\n",
       "      <td>I have many friends to thank tonight. I than...</td>\n",
       "      <td>{17: 0.07929415, 18: 0.12963656, 19: 0.7887595}</td>\n",
       "      <td>0.000000</td>\n",
       "      <td>0.000000</td>\n",
       "      <td>0.100386</td>\n",
       "      <td>0.000000</td>\n",
       "      <td>0.009867</td>\n",
       "      <td>...</td>\n",
       "      <td>0.014337</td>\n",
       "      <td>0.030926</td>\n",
       "      <td>0.011483</td>\n",
       "      <td>0.0</td>\n",
       "      <td>0.005019</td>\n",
       "      <td>0.0</td>\n",
       "      <td>0.004094</td>\n",
       "      <td>0.0</td>\n",
       "      <td>0.177056</td>\n",
       "      <td>0.000000</td>\n",
       "    </tr>\n",
       "    <tr>\n",
       "      <th>3</th>\n",
       "      <td>1989-12-20</td>\n",
       "      <td>Address to the Nation on Panama</td>\n",
       "      <td>bush</td>\n",
       "      <td>My fellow citizens, last night I ordered U. ...</td>\n",
       "      <td>{0: 0.07677447, 2: 0.4519084, 8: 0.123605825, ...</td>\n",
       "      <td>0.000000</td>\n",
       "      <td>0.000000</td>\n",
       "      <td>0.000000</td>\n",
       "      <td>0.000000</td>\n",
       "      <td>0.006316</td>\n",
       "      <td>...</td>\n",
       "      <td>0.000000</td>\n",
       "      <td>0.000000</td>\n",
       "      <td>0.000000</td>\n",
       "      <td>0.0</td>\n",
       "      <td>0.000665</td>\n",
       "      <td>0.0</td>\n",
       "      <td>0.024547</td>\n",
       "      <td>0.0</td>\n",
       "      <td>0.009812</td>\n",
       "      <td>0.483794</td>\n",
       "    </tr>\n",
       "    <tr>\n",
       "      <th>4</th>\n",
       "      <td>1989-05-12</td>\n",
       "      <td>Commencement Address at Texas A and M University</td>\n",
       "      <td>bush</td>\n",
       "      <td>Thank you, Governor. Thank you all very much...</td>\n",
       "      <td>{2: 0.07152886, 9: 0.2906991, 17: 0.17870894, ...</td>\n",
       "      <td>0.000000</td>\n",
       "      <td>0.000682</td>\n",
       "      <td>0.016653</td>\n",
       "      <td>0.000364</td>\n",
       "      <td>0.000000</td>\n",
       "      <td>...</td>\n",
       "      <td>0.000000</td>\n",
       "      <td>0.000000</td>\n",
       "      <td>0.018327</td>\n",
       "      <td>0.0</td>\n",
       "      <td>0.000000</td>\n",
       "      <td>0.0</td>\n",
       "      <td>0.006018</td>\n",
       "      <td>0.0</td>\n",
       "      <td>0.059821</td>\n",
       "      <td>0.001857</td>\n",
       "    </tr>\n",
       "  </tbody>\n",
       "</table>\n",
       "<p>5 rows × 25 columns</p>\n",
       "</div>"
      ],
      "text/plain": [
       "       index                                              title pres_name  \\\n",
       "0 1988-09-25                        Debate with Michael Dukakis      bush   \n",
       "1 1989-01-20                                  Inaugural Address      bush   \n",
       "2 1988-08-18  Acceptance Speech at the Republican National C...      bush   \n",
       "3 1989-12-20                    Address to the Nation on Panama      bush   \n",
       "4 1989-05-12   Commencement Address at Texas A and M University      bush   \n",
       "\n",
       "                                              speech  \\\n",
       "0          I think we've seen a deterioration of ...   \n",
       "1    Mr. Chief Justice, Mr. President, Vice Presi...   \n",
       "2    I have many friends to thank tonight. I than...   \n",
       "3    My fellow citizens, last night I ordered U. ...   \n",
       "4    Thank you, Governor. Thank you all very much...   \n",
       "\n",
       "                                           doc_topic   topic_0   topic_1  \\\n",
       "0     {2: 0.3027503, 10: 0.04934066, 19: 0.64316326}  0.000000  0.000000   \n",
       "1  {2: 0.039600223, 9: 0.08852721, 17: 0.21697919...  0.029247  0.002623   \n",
       "2    {17: 0.07929415, 18: 0.12963656, 19: 0.7887595}  0.000000  0.000000   \n",
       "3  {0: 0.07677447, 2: 0.4519084, 8: 0.123605825, ...  0.000000  0.000000   \n",
       "4  {2: 0.07152886, 9: 0.2906991, 17: 0.17870894, ...  0.000000  0.000682   \n",
       "\n",
       "    topic_2   topic_3   topic_4    ...     topic_10  topic_11  topic_12  \\\n",
       "0  0.077110  0.000000  0.005438    ...     0.040443  0.000000  0.000000   \n",
       "1  0.042639  0.023209  0.000000    ...     0.000000  0.006828  0.014450   \n",
       "2  0.100386  0.000000  0.009867    ...     0.014337  0.030926  0.011483   \n",
       "3  0.000000  0.000000  0.006316    ...     0.000000  0.000000  0.000000   \n",
       "4  0.016653  0.000364  0.000000    ...     0.000000  0.000000  0.018327   \n",
       "\n",
       "   topic_13  topic_14  topic_15  topic_16  topic_17  topic_18  topic_19  \n",
       "0       0.0  0.000000       0.0  0.001228       0.0  0.011348  0.010505  \n",
       "1       0.0  0.000000       0.0  0.000000       0.0  0.237960  0.000000  \n",
       "2       0.0  0.005019       0.0  0.004094       0.0  0.177056  0.000000  \n",
       "3       0.0  0.000665       0.0  0.024547       0.0  0.009812  0.483794  \n",
       "4       0.0  0.000000       0.0  0.006018       0.0  0.059821  0.001857  \n",
       "\n",
       "[5 rows x 25 columns]"
      ]
     },
     "execution_count": 33,
     "metadata": {},
     "output_type": "execute_result"
    }
   ],
   "source": [
    "# create NMF DataFrame for graphing\n",
    "\n",
    "lsi_df = pd.DataFrame(W)\n",
    "\n",
    "lsi_df.columns = [\"topic_%d\" % col for col in lsi_df.columns]\n",
    "\n",
    "lsi_df = pd.concat([corpus_df.reset_index(), lsi_df], axis=1)\n",
    "\n",
    "lsi_df.head()"
   ]
  },
  {
   "cell_type": "code",
   "execution_count": 34,
   "metadata": {},
   "outputs": [],
   "source": [
    "# Create a column for the largest topic value from NMF results\n",
    "\n",
    "lsi_df.index = lsi_df['index']\n",
    "\n",
    "lsi_df = lsi_df.drop(columns = ['index'])\n",
    "\n",
    "lsi_df.index = pd.to_datetime(lsi_df.index)\n",
    "\n",
    "lsi_df['max_topic'] = lsi_df.loc[:, 'topic_0' : 'topic_19'].idxmax(axis=1)"
   ]
  },
  {
   "cell_type": "code",
   "execution_count": 35,
   "metadata": {},
   "outputs": [],
   "source": [
    "# nmf topic sum - these will not sum to 1, since they are not percentage of doc based like LDA topics\n",
    "\n",
    "# lsi_df['sum_topic'] = lsi_df.loc[:, 'topic_0' : 'topic_19'].sum(axis=1)"
   ]
  },
  {
   "cell_type": "markdown",
   "metadata": {},
   "source": [
    "## Graphing"
   ]
  },
  {
   "cell_type": "markdown",
   "metadata": {},
   "source": [
    "### Graphing Topics over Time"
   ]
  },
  {
   "cell_type": "code",
   "execution_count": 36,
   "metadata": {},
   "outputs": [],
   "source": [
    "# graphing function for NMF results - can uncomment color and label to add arguments to graphing function\n",
    "\n",
    "def graph_lsi(topic_num): #, color, label):\n",
    "    \n",
    "    plt.figure(figsize = (12, 8))\n",
    "    plt.title(f'Topic Number {topic_num}')\n",
    "    plt.ylabel('Percentage of Speech on Topic', fontsize = 16)\n",
    "    plt.xlim(pd.Timestamp('1900-01-01'), pd.Timestamp('2018-01-01'))\n",
    "    plt.ylim(0, .5)\n",
    "    plt.vlines(x = lsi_df.index, ymin = 0, ymax = lsi_df[f'topic_{topic_num}'], alpha = .3, )#color = color, label = label)"
   ]
  },
  {
   "cell_type": "code",
   "execution_count": 37,
   "metadata": {},
   "outputs": [],
   "source": [
    "# graphing function for LDA results\n",
    "\n",
    "def graph_topic(topic_num):\n",
    "    \n",
    "    df[f'topic_{topic_num}'] = df['doc_topic'].apply(lambda x: x.get(topic_num, 0))\n",
    "    \n",
    "    plt.figure(figsize = (12, 8))\n",
    "    plt.title(f'Topic Number {topic_num}')\n",
    "    plt.ylabel('Percentage of Speech on Topic', fontsize = 16)\n",
    "    plt.xlim(pd.Timestamp('1900-01-01'), pd.Timestamp('2018-01-01'))\n",
    "    plt.ylim(0, 1)\n",
    "    plt.vlines(x = df.index, ymin = 0, ymax = df[f'topic_{topic_num}'], alpha = .3)"
   ]
  },
  {
   "cell_type": "markdown",
   "metadata": {},
   "source": [
    "##### LDA Graphs"
   ]
  },
  {
   "cell_type": "code",
   "execution_count": 38,
   "metadata": {},
   "outputs": [
    {
     "data": {
      "image/png": "[encoded data removed]",
      "text/plain": [
       "<Figure size 864x576 with 1 Axes>"
      ]
     },
     "metadata": {
      "needs_background": "light"
     },
     "output_type": "display_data"
    }
   ],
   "source": [
    "graph_topic(0)"
   ]
  },
  {
   "cell_type": "code",
   "execution_count": 39,
   "metadata": {},
   "outputs": [],
   "source": [
    "#for x in range(20):\n",
    "#    graph_topic(x)"
   ]
  },
  {
   "cell_type": "markdown",
   "metadata": {},
   "source": [
    "##### NMF Graphs"
   ]
  },
  {
   "cell_type": "code",
   "execution_count": 40,
   "metadata": {},
   "outputs": [
    {
     "data": {
      "image/png": "[encoded data removed]",
      "text/plain": [
       "<Figure size 864x576 with 1 Axes>"
      ]
     },
     "metadata": {
      "needs_background": "light"
     },
     "output_type": "display_data"
    }
   ],
   "source": [
    "graph_lsi(0)"
   ]
  },
  {
   "cell_type": "code",
   "execution_count": 41,
   "metadata": {},
   "outputs": [],
   "source": [
    "\n",
    "\n",
    "#colors = ['yellow', 'orange', 'green', 'blue', 'yellow', 'red']\n",
    "#labels = ['Vietnam', 'Iraq + Afghanistan', 'Cold War', 'WW2', 'Vietnam', 'WW1']\n",
    "\n",
    "#plt.figure(figsize = (12, 8))\n",
    "#plt.title('20th Century US Wars Modeled with NMF', fontsize = 20)\n",
    "\n",
    "#for color, topic in enumerate([3, 4, 5, 7, 9, 18]):\n",
    "#    graph_lsi(topic, colors[color], labels[color])\n",
    "    \n",
    "#plt.legend()"
   ]
  },
  {
   "cell_type": "code",
   "execution_count": 42,
   "metadata": {},
   "outputs": [],
   "source": [
    "# cmap = cm.get_cmap(name='hsv')"
   ]
  },
  {
   "cell_type": "markdown",
   "metadata": {},
   "source": [
    "# Doc2vec Analysis"
   ]
  },
  {
   "cell_type": "code",
   "execution_count": 43,
   "metadata": {},
   "outputs": [],
   "source": [
    "documents = [TaggedDocument(doc, [str(i)]) for i, doc in enumerate(punc_remove)]"
   ]
  },
  {
   "cell_type": "code",
   "execution_count": 44,
   "metadata": {},
   "outputs": [],
   "source": [
    "docvec_model = Doc2Vec(documents = documents, vector_size=500,\n",
    "                                      window=10, min_count=5, workers=2, seed=42, epochs = 20)"
   ]
  },
  {
   "cell_type": "code",
   "execution_count": 45,
   "metadata": {},
   "outputs": [],
   "source": [
    "vecs = [doc for doc in docvec_model.docvecs.vectors_docs]"
   ]
  },
  {
   "cell_type": "code",
   "execution_count": 46,
   "metadata": {
    "scrolled": true
   },
   "outputs": [
    {
     "data": {
      "text/plain": [
       "[(0,\n",
       "  '0.016*\"war\" + 0.011*\"vietnam\" + 0.009*\"peace\" + 0.009*\"south\" + 0.007*\"time\" + 0.006*\"president\" + 0.005*\"world\" + 0.005*\"north\" + 0.005*\"forces\" + 0.004*\"military\" + 0.004*\"country\" + 0.004*\"fighting\" + 0.004*\"viet\" + 0.004*\"vietnamese\" + 0.004*\"nam\" + 0.004*\"day\" + 0.004*\"nations\" + 0.003*\"take\" + 0.003*\"tonight\" + 0.003*\"enemy\"'),\n",
       " (1,\n",
       "  '0.018*\"tax\" + 0.007*\"unemployment\" + 0.007*\"ford\" + 0.006*\"investment\" + 0.005*\"nixon\" + 0.005*\"help\" + 0.004*\"percent\" + 0.004*\"work\" + 0.004*\"system\" + 0.004*\"unemployed\" + 0.004*\"new\" + 0.004*\"rate\" + 0.004*\"revenue\" + 0.004*\"well\" + 0.004*\"growth\" + 0.003*\"need\" + 0.003*\"ought\" + 0.003*\"depreciation\" + 0.003*\"structure\" + 0.003*\"efficient\"'),\n",
       " (2,\n",
       "  '0.007*\"world\" + 0.006*\"president\" + 0.005*\"country\" + 0.005*\"soviet\" + 0.004*\"peace\" + 0.004*\"well\" + 0.004*\"time\" + 0.003*\"war\" + 0.003*\"union\" + 0.003*\"first\" + 0.003*\"congress\" + 0.003*\"new\" + 0.003*\"defense\" + 0.003*\"good\" + 0.003*\"said\" + 0.002*\"security\" + 0.002*\"hope\" + 0.002*\"come\" + 0.002*\"republic\" + 0.002*\"work\"'),\n",
       " (3,\n",
       "  '0.005*\"world\" + 0.005*\"khrushchev\" + 0.005*\"new\" + 0.004*\"freedom\" + 0.004*\"future\" + 0.004*\"communist\" + 0.004*\"vienna\" + 0.004*\"west\" + 0.004*\"free\" + 0.003*\"peace\" + 0.003*\"country\" + 0.003*\"cambodia\" + 0.003*\"hope\" + 0.003*\"paris\" + 0.003*\"two\" + 0.003*\"war\" + 0.003*\"meeting\" + 0.003*\"private\" + 0.003*\"long\" + 0.003*\"major\"'),\n",
       " (4,\n",
       "  '0.008*\"president\" + 0.007*\"soviet\" + 0.005*\"gorbachev\" + 0.005*\"peace\" + 0.005*\"answer\" + 0.004*\"union\" + 0.004*\"canada\" + 0.004*\"international\" + 0.004*\"agreement\" + 0.004*\"economic\" + 0.003*\"well\" + 0.003*\"forward\" + 0.003*\"done\" + 0.003*\"trade\" + 0.003*\"dominion\" + 0.003*\"historic\" + 0.003*\"conference\" + 0.003*\"work\" + 0.003*\"right\" + 0.003*\"nuclear\"'),\n",
       " (5,\n",
       "  '0.005*\"country\" + 0.005*\"law\" + 0.004*\"congress\" + 0.004*\"war\" + 0.004*\"national\" + 0.004*\"work\" + 0.003*\"time\" + 0.003*\"business\" + 0.003*\"power\" + 0.003*\"service\" + 0.003*\"necessary\" + 0.003*\"good\" + 0.003*\"well\" + 0.002*\"conditions\" + 0.002*\"far\" + 0.002*\"world\" + 0.002*\"labor\" + 0.002*\"way\" + 0.002*\"general\" + 0.002*\"action\"'),\n",
       " (6,\n",
       "  '0.027*\"energy\" + 0.025*\"oil\" + 0.008*\"cuba\" + 0.007*\"schedule\" + 0.006*\"tariff\" + 0.006*\"articles\" + 0.005*\"republic\" + 0.005*\"production\" + 0.005*\"wool\" + 0.005*\"foreign\" + 0.004*\"gas\" + 0.004*\"conservation\" + 0.004*\"duty\" + 0.004*\"reagan\" + 0.004*\"coal\" + 0.004*\"manufactures\" + 0.004*\"plan\" + 0.004*\"imported\" + 0.004*\"tobacco\" + 0.003*\"consumption\"'),\n",
       " (7,\n",
       "  '0.000*\"time\" + 0.000*\"new\" + 0.000*\"country\" + 0.000*\"world\" + 0.000*\"war\" + 0.000*\"work\" + 0.000*\"congress\" + 0.000*\"law\" + 0.000*\"peace\" + 0.000*\"president\" + 0.000*\"two\" + 0.000*\"well\" + 0.000*\"national\" + 0.000*\"nations\" + 0.000*\"freedom\" + 0.000*\"first\" + 0.000*\"future\" + 0.000*\"power\" + 0.000*\"economy\" + 0.000*\"system\"'),\n",
       " (8,\n",
       "  '0.036*\"panama\" + 0.014*\"canal\" + 0.013*\"isthmus\" + 0.011*\"republic\" + 0.010*\"colon\" + 0.008*\"november\" + 0.007*\"said\" + 0.007*\"president\" + 0.006*\"colombia\" + 0.006*\"treaty\" + 0.006*\"1903\" + 0.005*\"hay\" + 0.004*\"colombian\" + 0.004*\"troops\" + 0.004*\"zone\" + 0.004*\"rights\" + 0.004*\"vessel\" + 0.004*\"territory\" + 0.004*\"convention\" + 0.004*\"washington\"'),\n",
       " (9,\n",
       "  '0.016*\"health\" + 0.016*\"care\" + 0.010*\"insurance\" + 0.006*\"system\" + 0.006*\"plan\" + 0.006*\"medicare\" + 0.005*\"children\" + 0.005*\"coverage\" + 0.005*\"new\" + 0.004*\"help\" + 0.004*\"pay\" + 0.004*\"thank\" + 0.004*\"ask\" + 0.004*\"work\" + 0.004*\"congress\" + 0.004*\"time\" + 0.004*\"seniors\" + 0.004*\"first\" + 0.004*\"reform\" + 0.004*\"century\"'),\n",
       " (10,\n",
       "  '0.014*\"congress\" + 0.006*\"country\" + 0.006*\"tax\" + 0.006*\"bill\" + 0.006*\"program\" + 0.005*\"increase\" + 0.005*\"time\" + 0.005*\"billion\" + 0.004*\"national\" + 0.004*\"economic\" + 0.004*\"budget\" + 0.004*\"new\" + 0.004*\"percent\" + 0.003*\"1\" + 0.003*\"income\" + 0.003*\"million\" + 0.003*\"administration\" + 0.003*\"prices\" + 0.003*\"business\" + 0.003*\"inflation\"'),\n",
       " (11,\n",
       "  '0.008*\"system\" + 0.008*\"business\" + 0.007*\"economic\" + 0.006*\"industry\" + 0.006*\"banks\" + 0.005*\"world\" + 0.005*\"national\" + 0.005*\"credit\" + 0.005*\"employment\" + 0.005*\"country\" + 0.005*\"life\" + 0.004*\"financial\" + 0.004*\"large\" + 0.004*\"recovery\" + 0.004*\"action\" + 0.004*\"whole\" + 0.004*\"relief\" + 0.004*\"work\" + 0.004*\"progress\" + 0.004*\"depression\"'),\n",
       " (12,\n",
       "  '0.011*\"world\" + 0.009*\"iraq\" + 0.007*\"security\" + 0.007*\"war\" + 0.006*\"peace\" + 0.005*\"new\" + 0.004*\"country\" + 0.004*\"freedom\" + 0.004*\"nations\" + 0.004*\"forces\" + 0.004*\"iraqi\" + 0.004*\"women\" + 0.004*\"military\" + 0.003*\"work\" + 0.003*\"weapons\" + 0.003*\"troops\" + 0.003*\"israel\" + 0.003*\"citizens\" + 0.003*\"afghanistan\" + 0.003*\"terrorists\"'),\n",
       " (13,\n",
       "  '0.008*\"department\" + 0.008*\"congress\" + 0.006*\"law\" + 0.005*\"court\" + 0.004*\"foreign\" + 0.004*\"secretary\" + 0.004*\"service\" + 0.004*\"general\" + 0.003*\"canal\" + 0.003*\"officers\" + 0.003*\"commerce\" + 0.003*\"system\" + 0.003*\"commission\" + 0.003*\"trade\" + 0.003*\"report\" + 0.003*\"two\" + 0.003*\"tariff\" + 0.003*\"state\" + 0.003*\"new\" + 0.003*\"respect\"'),\n",
       " (14,\n",
       "  '0.007*\"senator\" + 0.007*\"president\" + 0.007*\"right\" + 0.007*\"congress\" + 0.006*\"well\" + 0.006*\"good\" + 0.005*\"bill\" + 0.005*\"like\" + 0.005*\"hope\" + 0.005*\"house\" + 0.005*\"senate\" + 0.004*\"important\" + 0.004*\"said\" + 0.004*\"research\" + 0.004*\"billion\" + 0.003*\"see\" + 0.003*\"issue\" + 0.003*\"time\" + 0.003*\"sure\" + 0.003*\"thing\"'),\n",
       " (15,\n",
       "  '0.013*\"rights\" + 0.009*\"right\" + 0.009*\"law\" + 0.006*\"life\" + 0.006*\"justice\" + 0.005*\"action\" + 0.005*\"day\" + 0.004*\"negro\" + 0.004*\"cannot\" + 0.004*\"equal\" + 0.004*\"god\" + 0.004*\"german\" + 0.003*\"black\" + 0.003*\"lives\" + 0.003*\"women\" + 0.003*\"citizens\" + 0.003*\"constitution\" + 0.003*\"state\" + 0.003*\"way\" + 0.003*\"come\"'),\n",
       " (16,\n",
       "  '0.007*\"time\" + 0.006*\"well\" + 0.005*\"said\" + 0.005*\"poland\" + 0.005*\"percent\" + 0.005*\"yes\" + 0.005*\"tax\" + 0.005*\"see\" + 0.004*\"germany\" + 0.004*\"german\" + 0.004*\"come\" + 0.004*\"back\" + 0.004*\"conference\" + 0.004*\"go\" + 0.003*\"three\" + 0.003*\"regard\" + 0.003*\"matter\" + 0.003*\"interest\" + 0.003*\"polish\" + 0.003*\"cut\"'),\n",
       " (17,\n",
       "  '0.020*\"world\" + 0.014*\"peace\" + 0.012*\"nations\" + 0.009*\"new\" + 0.008*\"freedom\" + 0.007*\"war\" + 0.007*\"free\" + 0.005*\"soviet\" + 0.004*\"nuclear\" + 0.004*\"hope\" + 0.004*\"europe\" + 0.003*\"human\" + 0.003*\"security\" + 0.003*\"economic\" + 0.003*\"time\" + 0.003*\"union\" + 0.003*\"history\" + 0.003*\"future\" + 0.003*\"first\" + 0.003*\"cannot\"'),\n",
       " (18,\n",
       "  '0.010*\"lebanon\" + 0.006*\"well\" + 0.005*\"cuba\" + 0.005*\"peace\" + 0.005*\"force\" + 0.004*\"cuban\" + 0.004*\"country\" + 0.004*\"military\" + 0.004*\"somalia\" + 0.004*\"world\" + 0.004*\"israel\" + 0.004*\"mission\" + 0.004*\"east\" + 0.004*\"marines\" + 0.003*\"said\" + 0.003*\"time\" + 0.003*\"president\" + 0.003*\"middle\" + 0.003*\"grenada\" + 0.003*\"forces\"'),\n",
       " (19,\n",
       "  '0.008*\"new\" + 0.007*\"work\" + 0.006*\"time\" + 0.005*\"country\" + 0.005*\"world\" + 0.004*\"help\" + 0.004*\"jobs\" + 0.004*\"children\" + 0.004*\"economy\" + 0.004*\"like\" + 0.004*\"need\" + 0.004*\"congress\" + 0.004*\"right\" + 0.004*\"first\" + 0.004*\"tonight\" + 0.003*\"way\" + 0.003*\"good\" + 0.003*\"future\" + 0.003*\"president\" + 0.003*\"back\"')]"
      ]
     },
     "execution_count": 46,
     "metadata": {},
     "output_type": "execute_result"
    }
   ],
   "source": [
    "ldamodel.show_topics(num_topics = 20, num_words = 20) # remove index to show all topics"
   ]
  },
  {
   "cell_type": "code",
   "execution_count": 47,
   "metadata": {
    "scrolled": true
   },
   "outputs": [
    {
     "name": "stderr",
     "output_type": "stream",
     "text": [
      "/anaconda3/lib/python3.6/site-packages/gensim/matutils.py:737: FutureWarning: Conversion of the second argument of issubdtype from `int` to `np.signedinteger` is deprecated. In future, it will be treated as `np.int64 == np.dtype(int).type`.\n",
      "  if np.issubdtype(vec.dtype, np.int):\n"
     ]
    },
    {
     "data": {
      "text/plain": [
       "[('recession', 0.5719043612480164),\n",
       " ('inflationary', 0.5476022362709045),\n",
       " ('viable', 0.5046334266662598),\n",
       " ('deficit', 0.49715757369995117),\n",
       " ('revive', 0.4938308000564575),\n",
       " ('protectionism', 0.48406675457954407),\n",
       " ('pace', 0.4836490750312805),\n",
       " ('investing', 0.4677943289279938),\n",
       " ('mismanagement', 0.46149706840515137),\n",
       " ('expanding', 0.4587840735912323),\n",
       " ('structure', 0.45374298095703125),\n",
       " ('spur', 0.4519073963165283),\n",
       " ('finances', 0.4513145983219147),\n",
       " ('suffers', 0.4496876299381256),\n",
       " ('sapped', 0.44918501377105713),\n",
       " ('stewards', 0.44460195302963257),\n",
       " ('strongest', 0.4432305693626404),\n",
       " ('expansion', 0.4412615895271301),\n",
       " ('economies', 0.4383411705493927),\n",
       " ('productivity', 0.4343033730983734)]"
      ]
     },
     "execution_count": 47,
     "metadata": {},
     "output_type": "execute_result"
    }
   ],
   "source": [
    "docvec_model.wv.most_similar('economy', topn = 20)"
   ]
  },
  {
   "cell_type": "code",
   "execution_count": 48,
   "metadata": {},
   "outputs": [
    {
     "data": {
      "text/plain": [
       "[('iraqi', 0.7053860425949097),\n",
       " ('kuwait', 0.6768907308578491),\n",
       " ('afghanistan', 0.6738117337226868),\n",
       " ('iraqis', 0.6373779773712158),\n",
       " ('hussein', 0.6347225904464722),\n",
       " ('saddam', 0.6240900754928589),\n",
       " ('qaeda', 0.5756035447120667),\n",
       " ('coalition', 0.5660409927368164),\n",
       " ('afghan', 0.5649160742759705),\n",
       " ('baghdad', 0.5559142827987671),\n",
       " ('taliban', 0.5412024259567261),\n",
       " ('al', 0.5350885391235352),\n",
       " ('terrorists', 0.5342772006988525),\n",
       " ('syrian', 0.5321261286735535),\n",
       " ('iran', 0.5293040871620178),\n",
       " ('qaida', 0.5247376561164856),\n",
       " ('assad', 0.5174956321716309),\n",
       " ('terrorism', 0.5157009959220886),\n",
       " ('dictator', 0.5128620862960815),\n",
       " ('syria', 0.5092694759368896)]"
      ]
     },
     "execution_count": 48,
     "metadata": {},
     "output_type": "execute_result"
    }
   ],
   "source": [
    "docvec_model.wv.most_similar('iraq', topn = 20)"
   ]
  },
  {
   "cell_type": "code",
   "execution_count": 49,
   "metadata": {},
   "outputs": [
    {
     "data": {
      "text/plain": [
       "[('clean', 0.6513447165489197),\n",
       " ('oil', 0.6077816486358643),\n",
       " ('conservation', 0.5860788822174072),\n",
       " ('solar', 0.5783049464225769),\n",
       " ('sources', 0.5655242204666138),\n",
       " ('renewable', 0.5566893815994263),\n",
       " ('gas', 0.5507853031158447),\n",
       " ('fuels', 0.5318635702133179),\n",
       " ('dependence', 0.5208251476287842),\n",
       " ('fuel', 0.5099620819091797),\n",
       " ('fossil', 0.5020264983177185),\n",
       " ('cleaner', 0.4875386953353882),\n",
       " ('synthetic', 0.483209490776062),\n",
       " ('shale', 0.47692862153053284),\n",
       " ('shortage', 0.4763326644897461),\n",
       " ('gasoline', 0.47561344504356384),\n",
       " ('electricity', 0.4632377028465271),\n",
       " ('environmentally', 0.46173080801963806),\n",
       " ('harness', 0.45760154724121094),\n",
       " ('biofuels', 0.4526750147342682)]"
      ]
     },
     "execution_count": 49,
     "metadata": {},
     "output_type": "execute_result"
    }
   ],
   "source": [
    "docvec_model.wv.most_similar('energy', topn = 20)"
   ]
  },
  {
   "cell_type": "code",
   "execution_count": 50,
   "metadata": {},
   "outputs": [],
   "source": [
    "# docvec_model.docvecs.doctags"
   ]
  }
 ],
 "metadata": {
  "kernelspec": {
   "display_name": "Python 3",
   "language": "python",
   "name": "python3"
  },
  "language_info": {
   "codemirror_mode": {
    "name": "ipython",
    "version": 3
   },
   "file_extension": ".py",
   "mimetype": "text/x-python",
   "name": "python",
   "nbconvert_exporter": "python",
   "pygments_lexer": "ipython3",
   "version": "3.6.7"
  }
 },
 "nbformat": 4,
 "nbformat_minor": 2
}
